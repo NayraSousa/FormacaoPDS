{
 "cells": [
  {
   "cell_type": "code",
   "execution_count": 8,
   "metadata": {},
   "outputs": [],
   "source": [
    "import numpy as np\n",
    "import time"
   ]
  },
  {
   "cell_type": "code",
   "execution_count": 14,
   "metadata": {},
   "outputs": [
    {
     "name": "stdout",
     "output_type": "stream",
     "text": [
      "0.20442461967468262 0.0010006427764892578\n"
     ]
    }
   ],
   "source": [
    "lista = list(range(1000000))\n",
    "array = np.array(lista)\n",
    "start_time = time.time()\n",
    "lista_quadrado = [i**2 for i in lista]\n",
    "list_time = time.time() - start_time\n",
    "start_time = time.time()\n",
    "array = array**2\n",
    "array_time = time.time() - start_time\n",
    "print(list_time, array_time)"
   ]
  },
  {
   "cell_type": "markdown",
   "metadata": {},
   "source": [
    "Mostra a diferença de tempo ao trabalhar com uma lista e um array"
   ]
  }
 ],
 "metadata": {
  "kernelspec": {
   "display_name": "Python 3",
   "language": "python",
   "name": "python3"
  },
  "language_info": {
   "codemirror_mode": {
    "name": "ipython",
    "version": 3
   },
   "file_extension": ".py",
   "mimetype": "text/x-python",
   "name": "python",
   "nbconvert_exporter": "python",
   "pygments_lexer": "ipython3",
   "version": "3.10.12"
  },
  "orig_nbformat": 4
 },
 "nbformat": 4,
 "nbformat_minor": 2
}
